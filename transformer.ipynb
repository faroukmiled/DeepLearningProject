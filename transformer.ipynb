{
 "cells": [
  {
   "cell_type": "code",
   "execution_count": 1,
   "id": "4de485ab",
   "metadata": {},
   "outputs": [],
   "source": [
    "import torch\n",
    "import torch.nn as nn\n",
    "\n",
    "class PositionalEncoding(nn.Module):\n",
    "\n",
    "    def __init__(self, emb_dim, max_len = 1000):\n",
    "        super().__init__()\n",
    "        pe = torch.zeros(max_len, emb_dim)\n",
    "        position = torch.arange(0,max_len).unsqueeze(1)\n",
    "        # Scaling term for the positional encoding done with Sine and Cosine\n",
    "        div_term = torch.exp(torch.arange(0, emb_dim, 2) * (-torch.log(torch.tensor(10000.0))/emb_dim))\n",
    "\n",
    "        # Add sine and cosine to even and odd positions respectively\n",
    "        pe[:, 0::2] = torch.sin(position * div_term)\n",
    "        if emb_dim % 2 == 0:\n",
    "            pe[:, 1::2] = torch.cos(position * div_term)\n",
    "        else:\n",
    "            pe[:, 1::2] = torch.cos(position * div_term[:-1])  # Skip last value if mismatch\n",
    "\n",
    "\n",
    "        self.pe = pe.unsqueeze(0)\n",
    "        \n",
    "    def forward(self, x):\n",
    "        x = x + self.pe[:, :x.size(1), :].to(x.device)\n",
    "        return x\n",
    "\n",
    "\n",
    "# Test it\n",
    "# PositionalEncoding(20, 100)\n"
   ]
  },
  {
   "cell_type": "code",
   "execution_count": 2,
   "id": "96330546",
   "metadata": {},
   "outputs": [],
   "source": [
    "class CharTransformer(nn.Module):\n",
    "    def __init__(self, vocab_size, emb_dim=256, n_heads=4, n_layers = 2, ff_dim = 512, dropout = 0.1):\n",
    "        super().__init__()\n",
    "        self.embedding = nn.Embedding(vocab_size, emb_dim)\n",
    "        self.pos_enc = PositionalEncoding(emb_dim)\n",
    "        encoder_layer = nn.TransformerEncoderLayer(d_model=emb_dim, nhead=n_heads, dim_feedforward=ff_dim, dropout=dropout)\n",
    "        self.transformer = nn.TransformerEncoder(encoder_layer, num_layers=n_layers)\n",
    "        self.fc_out = nn.Linear(emb_dim, vocab_size)\n",
    "    \n",
    "    def forward(self, x):\n",
    "        x = self.embedding(x) # (B,T,D)\n",
    "        x = self.pos_enc(x) # Add positional encoding into the embedding\n",
    "        x = x.permute(1,0,2) # Switch into shape (T, B, D) to train the transformer\n",
    "\n",
    "        seq_len = x.size(0)\n",
    "        mask = torch.triu(torch.ones(seq_len,seq_len, device=x.device), diagonal=1).bool() # causal mask\n",
    "        out = self.transformer(x, mask=mask)\n",
    "        out = out.permute(1,0,2) # Change the shape back to (B,T,D)\n",
    "        logits = self.fc_out(out) #(B,T,V)\n",
    "        return logits     \n",
    "\n",
    "        "
   ]
  },
  {
   "cell_type": "code",
   "execution_count": 3,
   "id": "efa70f2b",
   "metadata": {},
   "outputs": [
    {
     "name": "stdout",
     "output_type": "stream",
     "text": [
      "Text of len 1115395 is being processed.\n",
      "\n"
     ]
    },
    {
     "name": "stderr",
     "output_type": "stream",
     "text": [
      "/Users/faroukmiled/Library/Python/3.9/lib/python/site-packages/torch/nn/modules/transformer.py:382: UserWarning: enable_nested_tensor is True, but self.use_nested_tensor is False because encoder_layer.self_attn.batch_first was not True(use batch_first for better inference performance)\n",
      "  warnings.warn(\n"
     ]
    },
    {
     "ename": "KeyboardInterrupt",
     "evalue": "",
     "output_type": "error",
     "traceback": [
      "\u001b[0;31m---------------------------------------------------------------------------\u001b[0m",
      "\u001b[0;31mKeyboardInterrupt\u001b[0m                         Traceback (most recent call last)",
      "\u001b[1;32m/Users/faroukmiled/Desktop/Project/DeepLearningProject/transformer.ipynb Cell 3\u001b[0m line \u001b[0;36m3\n\u001b[1;32m     <a href='vscode-notebook-cell:/Users/faroukmiled/Desktop/Project/DeepLearningProject/transformer.ipynb#W2sZmlsZQ%3D%3D?line=29'>30</a>\u001b[0m     loss \u001b[39m=\u001b[39m criterion(logits\u001b[39m.\u001b[39mview(\u001b[39m-\u001b[39m\u001b[39m1\u001b[39m, logits\u001b[39m.\u001b[39msize(\u001b[39m-\u001b[39m\u001b[39m1\u001b[39m)), y_batch\u001b[39m.\u001b[39mview(\u001b[39m-\u001b[39m\u001b[39m1\u001b[39m))\n\u001b[1;32m     <a href='vscode-notebook-cell:/Users/faroukmiled/Desktop/Project/DeepLearningProject/transformer.ipynb#W2sZmlsZQ%3D%3D?line=30'>31</a>\u001b[0m     losses\u001b[39m.\u001b[39mappend(loss\u001b[39m.\u001b[39mitem())\n\u001b[0;32m---> <a href='vscode-notebook-cell:/Users/faroukmiled/Desktop/Project/DeepLearningProject/transformer.ipynb#W2sZmlsZQ%3D%3D?line=31'>32</a>\u001b[0m     loss\u001b[39m.\u001b[39;49mbackward()\n\u001b[1;32m     <a href='vscode-notebook-cell:/Users/faroukmiled/Desktop/Project/DeepLearningProject/transformer.ipynb#W2sZmlsZQ%3D%3D?line=32'>33</a>\u001b[0m     optimizer\u001b[39m.\u001b[39mstep()\n\u001b[1;32m     <a href='vscode-notebook-cell:/Users/faroukmiled/Desktop/Project/DeepLearningProject/transformer.ipynb#W2sZmlsZQ%3D%3D?line=33'>34</a>\u001b[0m end_epoch \u001b[39m=\u001b[39m time()\n",
      "File \u001b[0;32m~/Library/Python/3.9/lib/python/site-packages/torch/_tensor.py:648\u001b[0m, in \u001b[0;36mTensor.backward\u001b[0;34m(self, gradient, retain_graph, create_graph, inputs)\u001b[0m\n\u001b[1;32m    638\u001b[0m \u001b[39mif\u001b[39;00m has_torch_function_unary(\u001b[39mself\u001b[39m):\n\u001b[1;32m    639\u001b[0m     \u001b[39mreturn\u001b[39;00m handle_torch_function(\n\u001b[1;32m    640\u001b[0m         Tensor\u001b[39m.\u001b[39mbackward,\n\u001b[1;32m    641\u001b[0m         (\u001b[39mself\u001b[39m,),\n\u001b[0;32m   (...)\u001b[0m\n\u001b[1;32m    646\u001b[0m         inputs\u001b[39m=\u001b[39minputs,\n\u001b[1;32m    647\u001b[0m     )\n\u001b[0;32m--> 648\u001b[0m torch\u001b[39m.\u001b[39;49mautograd\u001b[39m.\u001b[39;49mbackward(\n\u001b[1;32m    649\u001b[0m     \u001b[39mself\u001b[39;49m, gradient, retain_graph, create_graph, inputs\u001b[39m=\u001b[39;49minputs\n\u001b[1;32m    650\u001b[0m )\n",
      "File \u001b[0;32m~/Library/Python/3.9/lib/python/site-packages/torch/autograd/__init__.py:353\u001b[0m, in \u001b[0;36mbackward\u001b[0;34m(tensors, grad_tensors, retain_graph, create_graph, grad_variables, inputs)\u001b[0m\n\u001b[1;32m    348\u001b[0m     retain_graph \u001b[39m=\u001b[39m create_graph\n\u001b[1;32m    350\u001b[0m \u001b[39m# The reason we repeat the same comment below is that\u001b[39;00m\n\u001b[1;32m    351\u001b[0m \u001b[39m# some Python versions print out the first line of a multi-line function\u001b[39;00m\n\u001b[1;32m    352\u001b[0m \u001b[39m# calls in the traceback and some print out the last line\u001b[39;00m\n\u001b[0;32m--> 353\u001b[0m _engine_run_backward(\n\u001b[1;32m    354\u001b[0m     tensors,\n\u001b[1;32m    355\u001b[0m     grad_tensors_,\n\u001b[1;32m    356\u001b[0m     retain_graph,\n\u001b[1;32m    357\u001b[0m     create_graph,\n\u001b[1;32m    358\u001b[0m     inputs,\n\u001b[1;32m    359\u001b[0m     allow_unreachable\u001b[39m=\u001b[39;49m\u001b[39mTrue\u001b[39;49;00m,\n\u001b[1;32m    360\u001b[0m     accumulate_grad\u001b[39m=\u001b[39;49m\u001b[39mTrue\u001b[39;49;00m,\n\u001b[1;32m    361\u001b[0m )\n",
      "File \u001b[0;32m~/Library/Python/3.9/lib/python/site-packages/torch/autograd/graph.py:824\u001b[0m, in \u001b[0;36m_engine_run_backward\u001b[0;34m(t_outputs, *args, **kwargs)\u001b[0m\n\u001b[1;32m    822\u001b[0m     unregister_hooks \u001b[39m=\u001b[39m _register_logging_hooks_on_whole_graph(t_outputs)\n\u001b[1;32m    823\u001b[0m \u001b[39mtry\u001b[39;00m:\n\u001b[0;32m--> 824\u001b[0m     \u001b[39mreturn\u001b[39;00m Variable\u001b[39m.\u001b[39;49m_execution_engine\u001b[39m.\u001b[39;49mrun_backward(  \u001b[39m# Calls into the C++ engine to run the backward pass\u001b[39;49;00m\n\u001b[1;32m    825\u001b[0m         t_outputs, \u001b[39m*\u001b[39;49margs, \u001b[39m*\u001b[39;49m\u001b[39m*\u001b[39;49mkwargs\n\u001b[1;32m    826\u001b[0m     )  \u001b[39m# Calls into the C++ engine to run the backward pass\u001b[39;00m\n\u001b[1;32m    827\u001b[0m \u001b[39mfinally\u001b[39;00m:\n\u001b[1;32m    828\u001b[0m     \u001b[39mif\u001b[39;00m attach_logging_hooks:\n",
      "\u001b[0;31mKeyboardInterrupt\u001b[0m: "
     ]
    }
   ],
   "source": [
    "import functions_main as fm\n",
    "from time import time\n",
    "\n",
    "# Setup\n",
    "seq_length = 30\n",
    "batch_size = 200\n",
    "hidden_size = 64\n",
    "epochs = 5\n",
    "learning_rate = 0.003\n",
    "device = torch.device(\"cuda\" if torch.cuda.is_available() else \"cpu\")\n",
    "layers_LSTM = 1\n",
    "amount_chars = None\n",
    "\n",
    "# Training block\n",
    "dataloader, vocab, char2idx, idx2char, text_as_int = fm.get_dataloader(seq_length, batch_size, amount_chars=amount_chars)\n",
    "model = CharTransformer(vocab_size=len(vocab)).to(device)\n",
    "optimizer = torch.optim.Adam(model.parameters(), learning_rate)\n",
    "criterion = nn.CrossEntropyLoss()\n",
    "\n",
    "start_time = time()\n",
    "losses = []\n",
    "model.train()\n",
    "for epoch in range(epochs):\n",
    "    start_epoch = time()\n",
    "    for x_batch, y_batch in dataloader:\n",
    "        x_batch, y_batch = x_batch.to(device), y_batch.to(device)\n",
    "        optimizer.zero_grad()\n",
    "\n",
    "        logits = model(x_batch)\n",
    "        loss = criterion(logits.view(-1, logits.size(-1)), y_batch.view(-1))\n",
    "        losses.append(loss.item())\n",
    "        loss.backward()\n",
    "        optimizer.step()\n",
    "    end_epoch = time()\n",
    "    epoch_time = end_epoch - start_epoch\n",
    "    print(f'Epoch {epoch+1}, Loss: {loss.item():.4f}, Total time past {epoch_time:.2f}')\n",
    "print(f'Model trained in {time() - start_time:.2f}')\n",
    "\n"
   ]
  },
  {
   "cell_type": "code",
   "execution_count": 44,
   "id": "f7035e50",
   "metadata": {},
   "outputs": [],
   "source": [
    "import torch.nn.functional as F\n",
    "def generate_transformer_text(model, start_string, char2idx, idx2char, length=200, temperature=1.0, device='cpu'):\n",
    "    model.eval()\n",
    "    input_ids = torch.tensor([char2idx[c] for c in start_string]).unsqueeze(0)\n",
    "    generated = input_ids.clone()\n",
    "\n",
    "    with torch.no_grad():\n",
    "        for _ in range(length):\n",
    "            if generated.size(1)>512:\n",
    "                generated = generated[:,-512:] # truncate large context\n",
    "            \n",
    "            logits = model(generated) # shape (1,T, vocab_size)\n",
    "            next_logits = logits[:, -1, :] / temperature # adjust temperature\n",
    "            probs = F.softmax(next_logits, dim = -1)\n",
    "            next_token = torch.multinomial(probs, num_samples=1)\n",
    "\n",
    "            generated = torch.cat((generated, next_token),dim=1)\n",
    "\n",
    "    # Convert final tensor to string\n",
    "    output = ''.join([idx2char[token.item()] for token in generated[0]])\n",
    "\n",
    "    return output\n"
   ]
  },
  {
   "cell_type": "code",
   "execution_count": 45,
   "id": "c41b5ad0",
   "metadata": {},
   "outputs": [
    {
     "name": "stdout",
     "output_type": "stream",
     "text": [
      "\n",
      "Generated Text:\n",
      "\n",
      "To be, or not to be sloned them?\n",
      "Ale ale Weale deseseselesesey Con I Con The witheses aking akin, an weakicopleak seakicheak win win don weak.\n",
      "Fon weak wim weak, wicheakseang wicon deak weak, wineang y y deang wicheakeak, wak weangean on weak, an win win in win gean win win winseangrin d weak--------------------------\n"
     ]
    }
   ],
   "source": [
    "text = generate_transformer_text(model, start_string=\"To be, or not to be\", char2idx=char2idx, idx2char=idx2char, length=300, temperature=0.8, device=device)\n",
    "print(\"\\nGenerated Text:\\n\")\n",
    "print(text)"
   ]
  }
 ],
 "metadata": {
  "kernelspec": {
   "display_name": "base",
   "language": "python",
   "name": "python3"
  },
  "language_info": {
   "codemirror_mode": {
    "name": "ipython",
    "version": 3
   },
   "file_extension": ".py",
   "mimetype": "text/x-python",
   "name": "python",
   "nbconvert_exporter": "python",
   "pygments_lexer": "ipython3",
   "version": "3.9.6"
  }
 },
 "nbformat": 4,
 "nbformat_minor": 5
}
