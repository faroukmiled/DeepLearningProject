{
 "cells": [
  {
   "cell_type": "code",
   "execution_count": 41,
   "id": "4de485ab",
   "metadata": {},
   "outputs": [],
   "source": [
    "import torch\n",
    "import torch.nn as nn\n",
    "\n",
    "class PositionalEncoding(nn.Module):\n",
    "\n",
    "    def __init__(self, emb_dim, max_len = 1000):\n",
    "        super().__init__()\n",
    "        pe = torch.zeros(max_len, emb_dim)\n",
    "        position = torch.arange(0,max_len).unsqueeze(1)\n",
    "        # Scaling term for the positional encoding done with Sine and Cosine\n",
    "        div_term = torch.exp(torch.arange(0, emb_dim, 2) * (-torch.log(torch.tensor(10000.0))/emb_dim))\n",
    "\n",
    "        # Add sine and cosine to even and odd positions respectively\n",
    "        pe[:, 0::2] = torch.sin(position * div_term)\n",
    "        if emb_dim % 2 == 0:\n",
    "            pe[:, 1::2] = torch.cos(position * div_term)\n",
    "        else:\n",
    "            pe[:, 1::2] = torch.cos(position * div_term[:-1])  # Skip last value if mismatch\n",
    "\n",
    "\n",
    "        self.pe = pe.unsqueeze(0)\n",
    "        \n",
    "    def forward(self, x):\n",
    "        x = x + self.pe[:, :x.size(1), :].to(x.device)\n",
    "        return x\n",
    "\n",
    "\n",
    "# Test it\n",
    "# PositionalEncoding(20, 100)\n"
   ]
  },
  {
   "cell_type": "code",
   "execution_count": 42,
   "id": "96330546",
   "metadata": {},
   "outputs": [],
   "source": [
    "class CharTransformer(nn.Module):\n",
    "    def __init__(self, vocab_size, emb_dim=256, n_heads=4, n_layers = 2, ff_dim = 512, dropout = 0.1):\n",
    "        super().__init__()\n",
    "        self.embedding = nn.Embedding(vocab_size, emb_dim)\n",
    "        self.pos_enc = PositionalEncoding(emb_dim)\n",
    "        encoder_layer = nn.TransformerEncoderLayer(d_model=emb_dim, nhead=n_heads, dim_feedforward=ff_dim, dropout=dropout)\n",
    "        self.transformer = nn.TransformerEncoder(encoder_layer, num_layers=n_layers)\n",
    "        self.fc_out = nn.Linear(emb_dim, vocab_size)\n",
    "    \n",
    "    def forward(self, x):\n",
    "        x = self.embedding(x) # (B,T,D)\n",
    "        x = self.pos_enc(x) # Add positional encoding into the embedding\n",
    "        x = x.permute(1,0,2) # Switch into shape (T, B, D) to train the transformer\n",
    "\n",
    "        seq_len = x.size(0)\n",
    "        mask = torch.triu(torch.ones(seq_len,seq_len, device=x.device), diagonal=1).bool() # causal mask\n",
    "        out = self.transformer(x, mask=mask)\n",
    "        out = out.permute(1,0,2) # Change the shape back to (B,T,D)\n",
    "        logits = self.fc_out(out) #(B,T,V)\n",
    "        return logits     \n",
    "\n",
    "        "
   ]
  },
  {
   "cell_type": "code",
   "execution_count": 43,
   "id": "efa70f2b",
   "metadata": {},
   "outputs": [
    {
     "name": "stdout",
     "output_type": "stream",
     "text": [
      "Text of len 10000 is being processed.\n",
      "\n",
      "Epoch 1, Loss: 2.1362, Total time past 8.03\n",
      "Epoch 2, Loss: 1.6053, Total time past 7.69\n",
      "Epoch 3, Loss: 1.3401, Total time past 7.57\n",
      "Epoch 4, Loss: 1.0718, Total time past 7.66\n",
      "Epoch 5, Loss: 0.9138, Total time past 7.72\n",
      "Model trained in 38.67\n"
     ]
    }
   ],
   "source": [
    "import functions_main as fm\n",
    "from time import time\n",
    "\n",
    "# Setup\n",
    "seq_length = 30\n",
    "batch_size = 200\n",
    "hidden_size = 64\n",
    "epochs = 5\n",
    "learning_rate = 0.003\n",
    "device = torch.device(\"cuda\" if torch.cuda.is_available() else \"cpu\")\n",
    "layers_LSTM = 1\n",
    "amount_chars = 10000\n",
    "\n",
    "# Training block\n",
    "dataloader, vocab, char2idx, idx2char, text_as_int = fm.get_dataloader(seq_length, batch_size, amount_chars=amount_chars)\n",
    "model = CharTransformer(vocab_size=len(vocab)).to(device)\n",
    "optimizer = torch.optim.Adam(model.parameters(), learning_rate)\n",
    "criterion = nn.CrossEntropyLoss()\n",
    "\n",
    "start_time = time()\n",
    "\n",
    "model.train()\n",
    "for epoch in range(epochs):\n",
    "    start_epoch = time()\n",
    "    for x_batch, y_batch in dataloader:\n",
    "        x_batch, y_batch = x_batch.to(device), y_batch.to(device)\n",
    "        optimizer.zero_grad()\n",
    "\n",
    "        logits = model(x_batch)\n",
    "        loss = criterion(logits.view(-1, logits.size(-1)), y_batch.view(-1))\n",
    "        loss.backward()\n",
    "        optimizer.step()\n",
    "    end_epoch = time()\n",
    "    epoch_time = end_epoch - start_epoch\n",
    "    print(f'Epoch {epoch+1}, Loss: {loss.item():.4f}, Total time past {epoch_time:.2f}')\n",
    "print(f'Model trained in {time() - start_time:.2f}')\n",
    "\n"
   ]
  },
  {
   "cell_type": "code",
   "execution_count": 44,
   "id": "f7035e50",
   "metadata": {},
   "outputs": [],
   "source": [
    "import torch.nn.functional as F\n",
    "def generate_transformer_text(model, start_string, char2idx, idx2char, length=200, temperature=1.0, device='cpu'):\n",
    "    model.eval()\n",
    "    input_ids = torch.tensor([char2idx[c] for c in start_string]).unsqueeze(0)\n",
    "    generated = input_ids.clone()\n",
    "\n",
    "    with torch.no_grad():\n",
    "        for _ in range(length):\n",
    "            if generated.size(1)>512:\n",
    "                generated = generated[:,-512:] # truncate large context\n",
    "            \n",
    "            logits = model(generated) # shape (1,T, vocab_size)\n",
    "            next_logits = logits[:, -1, :] / temperature # adjust temperature\n",
    "            probs = F.softmax(next_logits, dim = -1)\n",
    "            next_token = torch.multinomial(probs, num_samples=1)\n",
    "\n",
    "            generated = torch.cat((generated, next_token),dim=1)\n",
    "\n",
    "    # Convert final tensor to string\n",
    "    output = ''.join([idx2char[token.item()] for token in generated[0]])\n",
    "\n",
    "    return output\n"
   ]
  },
  {
   "cell_type": "code",
   "execution_count": 45,
   "id": "c41b5ad0",
   "metadata": {},
   "outputs": [
    {
     "name": "stdout",
     "output_type": "stream",
     "text": [
      "\n",
      "Generated Text:\n",
      "\n",
      "To be, or not to be sloned them?\n",
      "Ale ale Weale deseseselesesey Con I Con The witheses aking akin, an weakicopleak seakicheak win win don weak.\n",
      "Fon weak wim weak, wicheakseang wicon deak weak, wineang y y deang wicheakeak, wak weangean on weak, an win win in win gean win win winseangrin d weak--------------------------\n"
     ]
    }
   ],
   "source": [
    "text = generate_transformer_text(model, start_string=\"To be, or not to be\", char2idx=char2idx, idx2char=idx2char, length=300, temperature=0.8, device=device)\n",
    "print(\"\\nGenerated Text:\\n\")\n",
    "print(text)"
   ]
  }
 ],
 "metadata": {
  "kernelspec": {
   "display_name": "base",
   "language": "python",
   "name": "python3"
  },
  "language_info": {
   "codemirror_mode": {
    "name": "ipython",
    "version": 3
   },
   "file_extension": ".py",
   "mimetype": "text/x-python",
   "name": "python",
   "nbconvert_exporter": "python",
   "pygments_lexer": "ipython3",
   "version": "3.11.7"
  }
 },
 "nbformat": 4,
 "nbformat_minor": 5
}
